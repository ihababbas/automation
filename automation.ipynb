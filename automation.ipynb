{
 "cells": [
  {
   "cell_type": "markdown",
   "metadata": {},
   "source": [
    "# LAB-17 : Automation\n",
    "\n",
    "## Ihab Abbas\n",
    "\n",
    "### 12-Nov-22"
   ]
  },
  {
   "cell_type": "code",
   "execution_count": null,
   "metadata": {},
   "outputs": [
    {
     "ename": "",
     "evalue": "",
     "output_type": "error",
     "traceback": [
      "\u001b[1;31mRunning cells with 'Python 3.10.7 64-bit' requires ipykernel package.\n",
      "\u001b[1;31mRun the following command to install 'ipykernel' into the Python environment. \n",
      "\u001b[1;31mCommand: '/bin/python3 -m pip install ipykernel -U --user --force-reinstall'"
     ]
    }
   ],
   "source": [
    "import pandas as pd"
   ]
  },
  {
   "cell_type": "markdown",
   "metadata": {},
   "source": [
    "## Divide the data into DataFrame as you see fit."
   ]
  },
  {
   "cell_type": "code",
   "execution_count": null,
   "metadata": {},
   "outputs": [],
   "source": [
    "df = pd.read_csv(\"daily_report.csv\")\n",
    "df_att = pd.read_csv(\"attendance.csv\")\n",
    "\n",
    "df_1, df_2 = df[:1], df[1:]\n",
    "meeting_duration = df_1[\"Duration (Minutes)\"][0]\n",
    "meeting_duration = int(meeting_duration)\n",
    "meeting_id = df_1[\"Meeting ID\"][0]\n",
    "print(type(meeting_id))\n"
   ]
  },
  {
   "cell_type": "markdown",
   "metadata": {},
   "source": [
    "## Get the Students ID."
   ]
  },
  {
   "cell_type": "code",
   "execution_count": null,
   "metadata": {},
   "outputs": [],
   "source": [
    "df_2.columns = df_2.iloc[0]\n",
    "df_2.drop(df_2.index[0], inplace=True)\n",
    "\n",
    "df_2[\"Student ID\"] = df_2[\"User Email\"].str.extract(pat='(^[0-9]*)')\n"
   ]
  },
  {
   "cell_type": "markdown",
   "metadata": {},
   "source": [
    "### Calculate the sum of the duration each student spends in the meeting based on their IDs"
   ]
  },
  {
   "cell_type": "code",
   "execution_count": null,
   "metadata": {},
   "outputs": [],
   "source": [
    "df_2[\"Total\"] = df_2[\"Duration (Minutes)\"].astype(\"int\")\n",
    "\n",
    "df_2 = df_2.groupby(\"Student ID\", as_index=False).sum(numeric_only=True)"
   ]
  },
  {
   "cell_type": "markdown",
   "metadata": {},
   "source": [
    "### In the new column, specify the state of each student.\n"
   ]
  },
  {
   "cell_type": "code",
   "execution_count": null,
   "metadata": {},
   "outputs": [],
   "source": [
    "df_2[\"Status\"] = ['Present' if x >= meeting_duration-50 else \"Absent\" if x <\n",
    "                  meeting_duration - 100 else \"Late\" for x in df_2[\"Total\"]]\n",
    "\n",
    "df_att[meeting_id] = df_2[\"Status\"]\n",
    "df_att[\"Student ID\"] = df_2[\"Student ID\"]\n",
    "\n",
    "df_att.to_csv(\"attendance.csv\")\n",
    "print(df_att)"
   ]
  }
 ],
 "metadata": {
  "kernelspec": {
   "display_name": "Python 3.10.7 64-bit",
   "language": "python",
   "name": "python3"
  },
  "language_info": {
   "name": "python",
   "version": "3.10.7"
  },
  "orig_nbformat": 4,
  "vscode": {
   "interpreter": {
    "hash": "916dbcbb3f70747c44a77c7bcd40155683ae19c65e1c03b4aa3499c5328201f1"
   }
  }
 },
 "nbformat": 4,
 "nbformat_minor": 2
}
